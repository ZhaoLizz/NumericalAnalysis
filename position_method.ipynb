{
 "cells": [
  {
   "cell_type": "code",
   "execution_count": 1,
   "metadata": {},
   "outputs": [],
   "source": [
    "def test_position_method(fun, a, b, epsilon):\n",
    "    \"\"\"\n",
    "    试位法寻找函数fun在区间[a,b]近似根\n",
    "    :param fun: 目标函数\n",
    "    :param a: 区间左下标\n",
    "    :param b: 区间右下标\n",
    "    :param epsilon: 误差要求,以区间长度b-a来度量\n",
    "    :return: 函数fun在区间[a,b]近似根\n",
    "    \"\"\"\n",
    "    if fun(a) * fun(b) > 0:\n",
    "        raise Exception('there is no root in section [a,b]')\n",
    "    \n",
    "    x_pred = [] # 每次迭代找到的误差点\n",
    "    while b - a > epsilon:\n",
    "        f_a ,f_b = fun(a),fun(b)\n",
    "        x_mid = (abs(f_a ) * b + abs(f_b) * a ) / (abs(f_b) + abs(f_a))\n",
    "        f_xmid = fun(x_mid)\n",
    "        if f_xmid * f_a < 0:\n",
    "            b = x_mid\n",
    "        else:\n",
    "            a = x_mid\n",
    "        x_pred.append(\n",
    "            (abs(fun(a)) * b + abs(fun(b)) * a ) / (abs(fun(b)) + abs(fun(a)))\n",
    "            )\n",
    "    return x_pred[-1],x_pred\n",
    "            "
   ]
  },
  {
   "cell_type": "code",
   "execution_count": 2,
   "metadata": {},
   "outputs": [],
   "source": [
    "def fun(x):\n",
    "    \"\"\"\n",
    "    函数\n",
    "    :param x:\n",
    "    :return: f(x)\n",
    "    \"\"\"\n",
    "    return x ** 3 - x - 1"
   ]
  },
  {
   "cell_type": "code",
   "execution_count": 3,
   "metadata": {},
   "outputs": [
    {
     "name": "stdout",
     "output_type": "stream",
     "text": [
      "root is 1.324717957244746\n",
      "fun(root) = 2.220446049250313e-16\n"
     ]
    }
   ],
   "source": [
    "a, b = 1, 1.5\n",
    "epsilon = 0.00001\n",
    "x_best,x_list = test_position_method(fun, a, b, epsilon)\n",
    "print('root is',x_best)\n",
    "print('fun(root) =',fun(x_best))"
   ]
  },
  {
   "cell_type": "code",
   "execution_count": 4,
   "metadata": {},
   "outputs": [],
   "source": [
    "%matplotlib inline\n",
    "import numpy as np \n",
    "import matplotlib as mpl\n",
    "import matplotlib.pyplot as plt\n",
    "import seaborn as sns\n",
    "import pandas as pd"
   ]
  },
  {
   "cell_type": "code",
   "execution_count": 5,
   "metadata": {},
   "outputs": [
    {
     "data": {
      "text/plain": [
       "array([1.00000000e+00, 5.64733372e-03, 8.27021707e-04, 1.20586066e-04,\n",
       "       1.75711535e-05, 2.56013592e-06, 3.73009495e-07, 5.43470397e-08,\n",
       "       7.91829662e-09, 1.15368602e-09, 1.68090700e-10, 2.44904487e-11,\n",
       "       3.56855557e-12, 5.19778807e-13, 7.57626640e-14, 1.08950734e-14,\n",
       "       1.84378164e-15, 1.67616513e-16, 0.00000000e+00])"
      ]
     },
     "execution_count": 5,
     "metadata": {},
     "output_type": "execute_result"
    }
   ],
   "source": [
    "x_list = np.array(x_list)\n",
    "sub = [0]\n",
    "sub.extend(x_list[:-1]) # sub[0] = 0, sub[i] = x_list[i+1] (i>0)\n",
    "rel_error = (x_list - sub) / x_list # 相对误差\n",
    "rel_error"
   ]
  },
  {
   "cell_type": "code",
   "execution_count": 6,
   "metadata": {},
   "outputs": [
    {
     "data": {
      "text/plain": [
       "<seaborn.axisgrid.FacetGrid at 0x1e83ca110f0>"
      ]
     },
     "execution_count": 6,
     "metadata": {},
     "output_type": "execute_result"
    },
    {
     "data": {
      "image/png": "[encoded data removed]",
      "text/plain": [
       "<Figure size 360x360 with 1 Axes>"
      ]
     },
     "metadata": {},
     "output_type": "display_data"
    }
   ],
   "source": [
    "# 绘制相对误差\n",
    "df = pd.DataFrame(dict(x=np.arange(len(rel_error)), rel_error=rel_error))\n",
    "sns.set(color_codes=True)\n",
    "sns.relplot(x='x',y='rel_error',kind='line',data=df)"
   ]
  }
 ],
 "metadata": {
  "kernelspec": {
   "display_name": "Python 3",
   "language": "python",
   "name": "python3"
  },
  "language_info": {
   "codemirror_mode": {
    "name": "ipython",
    "version": 3
   },
   "file_extension": ".py",
   "mimetype": "text/x-python",
   "name": "python",
   "nbconvert_exporter": "python",
   "pygments_lexer": "ipython3",
   "version": "3.6.5"
  }
 },
 "nbformat": 4,
 "nbformat_minor": 2
}
