{
 "cells": [
  {
   "cell_type": "code",
   "execution_count": 1,
   "metadata": {},
   "outputs": [
    {
     "name": "stdout",
     "output_type": "stream",
     "text": [
      "1.324717957244746\n",
      "2.220446049250313e-16\n"
     ]
    }
   ],
   "source": [
    "def test_position_method(fun, a, b, epsilon):\n",
    "    \"\"\"\n",
    "    试位法寻找函数fun在区间[a,b]近似根\n",
    "    :param fun: 目标函数\n",
    "    :param a: 区间左下标\n",
    "    :param b: 区间右下标\n",
    "    :param epsilon: 误差要求,以区间长度b-a来度量\n",
    "    :return: 函数fun在区间[a,b]近似根\n",
    "    \"\"\"\n",
    "    if fun(a) * fun(b) > 0:\n",
    "        raise Exception('there is no root in section [a,b]')\n",
    "    while b - a > epsilon:\n",
    "        f_a ,f_b = fun(a),fun(b)\n",
    "        x_mid = (abs(f_a ) * b + abs(f_b) * a ) / (abs(f_b) + abs(f_a))\n",
    "        f_xmid = fun(x_mid)\n",
    "        if f_xmid * f_a < 0:\n",
    "            b = x_mid\n",
    "        else:\n",
    "            a = x_mid\n",
    "    return (abs(fun(a) ) * b + abs(fun(b)) * a ) / (abs(fun(b)) + abs(fun(a)))\n",
    "\n",
    "\n",
    "def fun(x):\n",
    "    \"\"\"\n",
    "    函数\n",
    "    :param x:\n",
    "    :return: f(x)\n",
    "    \"\"\"\n",
    "    return x ** 3 - x - 1\n",
    "\n",
    "\n",
    "a, b = 1, 1.5\n",
    "epsilon = 0.00001\n",
    "x = test_position_method(fun, a, b, epsilon)\n",
    "print(x)\n",
    "print(fun(x))\n"
   ]
  }
 ],
 "metadata": {
  "kernelspec": {
   "display_name": "Python 3",
   "language": "python",
   "name": "python3"
  },
  "language_info": {
   "codemirror_mode": {
    "name": "ipython",
    "version": 3
   },
   "file_extension": ".py",
   "mimetype": "text/x-python",
   "name": "python",
   "nbconvert_exporter": "python",
   "pygments_lexer": "ipython3",
   "version": "3.6.5"
  }
 },
 "nbformat": 4,
 "nbformat_minor": 2
}
